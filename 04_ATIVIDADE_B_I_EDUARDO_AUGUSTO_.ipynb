{
  "nbformat": 4,
  "nbformat_minor": 0,
  "metadata": {
    "colab": {
      "provenance": [],
      "authorship_tag": "ABX9TyNZ3W3K0fp1tHrOE9r1w4Uw",
      "include_colab_link": true
    },
    "kernelspec": {
      "name": "python3",
      "display_name": "Python 3"
    },
    "language_info": {
      "name": "python"
    }
  },
  "cells": [
    {
      "cell_type": "markdown",
      "metadata": {
        "id": "view-in-github",
        "colab_type": "text"
      },
      "source": [
        "<a href=\"https://colab.research.google.com/github/Edrobles94/eduardoaugustoaulabi/blob/main/04_ATIVIDADE_B_I_EDUARDO_AUGUSTO_.ipynb\" target=\"_parent\"><img src=\"https://colab.research.google.com/assets/colab-badge.svg\" alt=\"Open In Colab\"/></a>"
      ]
    },
    {
      "cell_type": "code",
      "execution_count": 10,
      "metadata": {
        "colab": {
          "base_uri": "https://localhost:8080/"
        },
        "id": "CRKoVJbUzDTy",
        "outputId": "5d592bb1-7bc2-4a8a-f49d-866b20d20514"
      },
      "outputs": [
        {
          "output_type": "stream",
          "name": "stdout",
          "text": [
            "     Grand Prix         Date             Winner                         Car  \\\n",
            "0       Bahrain  02 Mar 2024  Max VerstappenVER  Red Bull Racing Honda RBPT   \n",
            "1  Saudi Arabia  09 Mar 2024  Max VerstappenVER  Red Bull Racing Honda RBPT   \n",
            "2     Australia  24 Mar 2024    Carlos SainzSAI                     Ferrari   \n",
            "3         Japan  07 Apr 2024  Max VerstappenVER  Red Bull Racing Honda RBPT   \n",
            "4         China  21 Apr 2024  Max VerstappenVER  Red Bull Racing Honda RBPT   \n",
            "\n",
            "   Laps         Time  \n",
            "0    57  1:31:44.742  \n",
            "1    50  1:20:43.273  \n",
            "2    58  1:20:26.843  \n",
            "3    53  1:54:23.566  \n",
            "4    56  1:40:52.554  \n"
          ]
        },
        {
          "output_type": "stream",
          "name": "stderr",
          "text": [
            "<ipython-input-10-0b7cbb1214eb>:15: FutureWarning: Passing literal html to 'read_html' is deprecated and will be removed in a future version. To read from a literal string, wrap it in a 'StringIO' object.\n",
            "  df = pd.read_html(table_str)[0]\n"
          ]
        }
      ],
      "source": [
        "#Código para extrair dados dos resultados da Fórmula 1\n",
        "import pandas as pd\n",
        "import requests\n",
        "from bs4 import BeautifulSoup\n",
        "import matplotlib.pyplot as plt\n",
        "\n",
        "req = requests.get(\"https://www.formula1.com/en/results/2024/races\")\n",
        "\n",
        "content = req.content\n",
        "\n",
        "soup = BeautifulSoup (content, 'html.parser')\n",
        "table = soup.find_all(name='table')\n",
        "\n",
        "table_str = str(table)\n",
        "df = pd.read_html(table_str)[0]\n",
        "print(df.head())\n"
      ]
    },
    {
      "cell_type": "code",
      "source": [
        "# limpeza dos dados\n",
        "print(df.columns)\n",
        "print(df.shape)\n",
        "df.columns = ['Grand Prix', 'Date', 'Winner', 'Car', 'Laps', 'Time']  # Renomear colunas\n",
        "df.to_csv('Resultados_f1_2024.csv', index=False)  # Salvar dados em CSV\n"
      ],
      "metadata": {
        "colab": {
          "base_uri": "https://localhost:8080/"
        },
        "id": "Jwwr6vSZzQVH",
        "outputId": "3d34f5c0-e25f-4bd1-9319-50b1085e5504"
      },
      "execution_count": 15,
      "outputs": [
        {
          "output_type": "stream",
          "name": "stdout",
          "text": [
            "Index(['Grand Prix', 'Date', 'Winner', 'Car', 'Laps', 'Time'], dtype='object')\n",
            "(18, 6)\n"
          ]
        }
      ]
    },
    {
      "cell_type": "code",
      "source": [
        "# Análise dos dados\n",
        "vitorias = df['Car'].value_counts()  # Contar vitórias por carro\n",
        "total_corridas = df['Car'].value_counts().rename(\"Total Corridas\")  # Total de corridas por carro\n",
        "\n",
        "# Melhor tempo por carro (com base na coluna 'Time')\n",
        "melhor_tempo = df.groupby('Car')['Time'].min().rename(\"Melhor Tempo\")\n",
        "\n",
        "# Combinar todas as estatísticas em um DataFrame\n",
        "estatisticas = pd.concat([vitorias, total_corridas, melhor_tempo], axis=1)\n",
        "estatisticas.columns = ['Vitorias', 'Total Corridas', 'Melhor Tempo']\n",
        "\n",
        "# Exibir as estatísticas\n",
        "print(estatisticas)\n",
        "\n",
        "# Salvar as estatísticas em um CSV\n",
        "estatisticas.to_csv('Estatisticas_f1_2024.csv')\n"
      ],
      "metadata": {
        "colab": {
          "base_uri": "https://localhost:8080/"
        },
        "id": "KpFT3N-dzi7x",
        "outputId": "b601cb5f-fb89-4c54-cb60-3de9c82dea02"
      },
      "execution_count": 17,
      "outputs": [
        {
          "output_type": "stream",
          "name": "stdout",
          "text": [
            "                            Vitorias  Total Corridas Melhor Tempo\n",
            "Car                                                              \n",
            "Red Bull Racing Honda RBPT         7               7  1:20:43.273\n",
            "McLaren Mercedes                   5               5  1:30:45.519\n",
            "Ferrari                            3               3  1:14:40.727\n",
            "Mercedes                           3               3  1:19:57.566\n"
          ]
        }
      ]
    },
    {
      "cell_type": "code",
      "source": [],
      "metadata": {
        "id": "L3bYmoyoDphK"
      },
      "execution_count": null,
      "outputs": []
    }
  ]
}